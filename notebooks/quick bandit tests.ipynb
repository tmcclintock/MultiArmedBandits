{
 "cells": [
  {
   "cell_type": "markdown",
   "metadata": {},
   "source": [
    "These are some early bandit tests. One thing that's apparent is that I need to vary the rewards in the environment, or else I think I am getting biased results."
   ]
  },
  {
   "cell_type": "code",
   "execution_count": 1,
   "metadata": {},
   "outputs": [],
   "source": [
    "import numpy as np\n",
    "import matplotlib.pyplot as plt\n",
    "%matplotlib inline"
   ]
  },
  {
   "cell_type": "code",
   "execution_count": 2,
   "metadata": {},
   "outputs": [],
   "source": [
    "from bandit.bandit import (\n",
    "    EpsGreedyBandit, \n",
    "    GreedyBandit, \n",
    "    RandomBandit,\n",
    ")\n",
    "from bandit.environment import Environment\n",
    "from bandit.reward import GaussianReward"
   ]
  },
  {
   "cell_type": "code",
   "execution_count": 3,
   "metadata": {},
   "outputs": [],
   "source": [
    "# Make the rewards and environment\n",
    "rewards = [GaussianReward(mean = np.random.randn()) for _ in range(10)]\n",
    "env = Environment(rewards)"
   ]
  },
  {
   "cell_type": "code",
   "execution_count": 4,
   "metadata": {},
   "outputs": [],
   "source": [
    "# Make all the bandits\n",
    "Nbandits = 2000\n",
    "rbandits = [RandomBandit(env) for _ in range(Nbandits)]\n",
    "gbandits = [GreedyBandit(env) for _ in range(Nbandits)]\n",
    "ebandits = [EpsGreedyBandit(env, eps=0.1) for _ in range(Nbandits)]"
   ]
  },
  {
   "cell_type": "code",
   "execution_count": 5,
   "metadata": {},
   "outputs": [
    {
     "name": "stdout",
     "output_type": "stream",
     "text": [
      "best choice is 5\n"
     ]
    }
   ],
   "source": [
    "# Figure out the best reward\n",
    "best_choice = np.argmax(env.expected_rewards())\n",
    "print(f\"best choice is {best_choice}\")"
   ]
  },
  {
   "cell_type": "code",
   "execution_count": 6,
   "metadata": {},
   "outputs": [
    {
     "name": "stdout",
     "output_type": "stream",
     "text": [
      "Done with RandomBandits\n"
     ]
    }
   ],
   "source": [
    "# Have all bandits take 1000 steps\n",
    "Nsteps = 1000\n",
    "for i in range(Nbandits):\n",
    "    for s in range(Nsteps):\n",
    "        rbandits[i].action()\n",
    "print(\"Done with RandomBandits\")"
   ]
  },
  {
   "cell_type": "code",
   "execution_count": 7,
   "metadata": {},
   "outputs": [
    {
     "name": "stdout",
     "output_type": "stream",
     "text": [
      "Done with GreedyBandits\n"
     ]
    }
   ],
   "source": [
    "for i in range(Nbandits):\n",
    "    for s in range(Nsteps):\n",
    "        gbandits[i].action()\n",
    "print(\"Done with GreedyBandits\")"
   ]
  },
  {
   "cell_type": "code",
   "execution_count": 8,
   "metadata": {},
   "outputs": [
    {
     "name": "stdout",
     "output_type": "stream",
     "text": [
      "Done with EpsGreedyBandits\n"
     ]
    }
   ],
   "source": [
    "for i in range(Nbandits):\n",
    "    for s in range(Nsteps):\n",
    "        ebandits[i].action()\n",
    "print(\"Done with EpsGreedyBandits\")"
   ]
  },
  {
   "cell_type": "code",
   "execution_count": 9,
   "metadata": {},
   "outputs": [],
   "source": [
    "from bandit.figures import (\n",
    "    plot_average_rewards,\n",
    "    plot_reward_distributions,\n",
    ")"
   ]
  },
  {
   "cell_type": "code",
   "execution_count": 10,
   "metadata": {},
   "outputs": [],
   "source": [
    "# Pull out the histories\n",
    "rrewards = [b.reward_history for b in rbandits]\n",
    "grewards = [b.reward_history for b in gbandits]\n",
    "erewards = [b.reward_history for b in ebandits]"
   ]
  },
  {
   "cell_type": "code",
   "execution_count": 11,
   "metadata": {},
   "outputs": [
    {
     "data": {
      "image/png": "[encoded data removed]",
      "text/plain": [
       "<Figure size 432x288 with 1 Axes>"
      ]
     },
     "metadata": {
      "needs_background": "light"
     },
     "output_type": "display_data"
    }
   ],
   "source": [
    "fig, ax = plot_average_rewards(grewards)\n",
    "#fig, ax = plot_average_rewards(grewards, ax)\n",
    "fig, ax = plot_average_rewards(erewards, ax)"
   ]
  },
  {
   "cell_type": "code",
   "execution_count": 13,
   "metadata": {},
   "outputs": [],
   "source": [
    "rchoices = np.array([b.choice_history for b in rbandits])\n",
    "gchoices = np.array([b.choice_history for b in gbandits])\n",
    "echoices = np.array([b.choice_history for b in ebandits])"
   ]
  },
  {
   "cell_type": "code",
   "execution_count": 17,
   "metadata": {},
   "outputs": [
    {
     "data": {
      "text/plain": [
       "(0.0, 1.0)"
      ]
     },
     "execution_count": 17,
     "metadata": {},
     "output_type": "execute_result"
    },
    {
     "data": {
      "image/png": "[encoded data removed]",
      "text/plain": [
       "<Figure size 432x288 with 1 Axes>"
      ]
     },
     "metadata": {
      "needs_background": "light"
     },
     "output_type": "display_data"
    }
   ],
   "source": [
    "plt.plot(np.mean(gchoices == best_choice, axis=0))\n",
    "plt.plot(np.mean(echoices == best_choice, axis=0))\n",
    "plt.ylim(0, 1)"
   ]
  },
  {
   "cell_type": "code",
   "execution_count": 37,
   "metadata": {},
   "outputs": [
    {
     "name": "stdout",
     "output_type": "stream",
     "text": [
      "[-0.05148327294134516, 0.005591740467524721, 1.0873432390528173, 0.0033858533299993836, 0.03672885295089938, 0.07869930689686172, -0.03312572813012007, -0.0009496890333269821, -0.5914093617650551, 0.22987776728287698]\n",
      "(array([0, 1, 2, 3, 4, 5, 6, 7, 8, 9]), array([  4,  12,  12,   9,   6, 924,   7,   9,   8,   9]))\n"
     ]
    }
   ],
   "source": [
    "print(ebandits[10].values)\n",
    "b = ebandits[44]\n",
    "c = np.array(b.choice_history)\n",
    "print(np.unique(c, return_counts = True))"
   ]
  },
  {
   "cell_type": "code",
   "execution_count": 35,
   "metadata": {},
   "outputs": [
    {
     "name": "stdout",
     "output_type": "stream",
     "text": [
      "[-1.71023957 -0.17415374  1.08852288 -0.09457224  0.45743981  1.42447522\n",
      " -0.97040353 -0.05425843  0.52516856  0.72280457]\n"
     ]
    }
   ],
   "source": [
    "print(env.expected_rewards())"
   ]
  },
  {
   "cell_type": "code",
   "execution_count": null,
   "metadata": {},
   "outputs": [],
   "source": []
  }
 ],
 "metadata": {
  "kernelspec": {
   "display_name": "Python 3",
   "language": "python",
   "name": "python3"
  },
  "language_info": {
   "codemirror_mode": {
    "name": "ipython",
    "version": 3
   },
   "file_extension": ".py",
   "mimetype": "text/x-python",
   "name": "python",
   "nbconvert_exporter": "python",
   "pygments_lexer": "ipython3",
   "version": "3.7.6"
  }
 },
 "nbformat": 4,
 "nbformat_minor": 4
}
